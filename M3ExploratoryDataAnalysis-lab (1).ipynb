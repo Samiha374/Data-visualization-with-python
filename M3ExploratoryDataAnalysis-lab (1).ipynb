{
 "cells": [
  {
   "cell_type": "markdown",
   "metadata": {},
   "source": [
    "<p style=\"text-align:center\">\n",
    "    <a href=\"https://skills.network/?utm_medium=Exinfluencer&utm_source=Exinfluencer&utm_content=000026UJ&utm_term=10006555&utm_id=NA-SkillsNetwork-Channel-SkillsNetworkCoursesIBMDA0321ENSkillsNetwork928-2023-01-01\">\n",
    "    <img src=\"https://cf-courses-data.s3.us.cloud-object-storage.appdomain.cloud/assets/logos/SN_web_lightmode.png\" width=\"200\" alt=\"Skills Network Logo\"  />\n",
    "    </a>\n",
    "</p>\n"
   ]
  },
  {
   "cell_type": "markdown",
   "metadata": {},
   "source": [
    "# **Exploratory Data Analysis Lab**\n"
   ]
  },
  {
   "cell_type": "markdown",
   "metadata": {},
   "source": [
    "Estimated time needed: **30** minutes\n"
   ]
  },
  {
   "cell_type": "markdown",
   "metadata": {},
   "source": [
    "In this module you get to work with the cleaned dataset from the previous module.\n",
    "\n",
    "In this assignment you will perform the task of exploratory data analysis.\n",
    "You will find out the distribution of data, presence of outliers and also determine the correlation between different columns in the dataset.\n"
   ]
  },
  {
   "cell_type": "markdown",
   "metadata": {},
   "source": [
    "## Objectives\n"
   ]
  },
  {
   "cell_type": "markdown",
   "metadata": {},
   "source": [
    "In this lab you will perform the following:\n"
   ]
  },
  {
   "cell_type": "markdown",
   "metadata": {},
   "source": [
    "-   Identify the distribution of data in the dataset.\n",
    "\n",
    "-   Identify outliers in the dataset.\n",
    "\n",
    "-   Remove outliers from the dataset.\n",
    "\n",
    "-   Identify correlation between features in the dataset.\n"
   ]
  },
  {
   "cell_type": "markdown",
   "metadata": {},
   "source": [
    "* * *\n"
   ]
  },
  {
   "cell_type": "markdown",
   "metadata": {},
   "source": [
    "## Hands on Lab\n"
   ]
  },
  {
   "cell_type": "markdown",
   "metadata": {},
   "source": [
    "Import the pandas module.\n"
   ]
  },
  {
   "cell_type": "code",
   "execution_count": 1,
   "metadata": {},
   "outputs": [],
   "source": [
    "import pandas as pd"
   ]
  },
  {
   "cell_type": "markdown",
   "metadata": {},
   "source": [
    "Load the dataset into a dataframe.\n"
   ]
  },
  {
   "cell_type": "code",
   "execution_count": 3,
   "metadata": {},
   "outputs": [],
   "source": [
    "df = pd.read_csv(\"https://cf-courses-data.s3.us.cloud-object-storage.appdomain.cloud/IBM-DA0321EN-SkillsNetwork/LargeData/m2_survey_data.csv\")"
   ]
  },
  {
   "cell_type": "code",
   "execution_count": 4,
   "metadata": {},
   "outputs": [
    {
     "data": {
      "text/html": [
       "<div>\n",
       "<style scoped>\n",
       "    .dataframe tbody tr th:only-of-type {\n",
       "        vertical-align: middle;\n",
       "    }\n",
       "\n",
       "    .dataframe tbody tr th {\n",
       "        vertical-align: top;\n",
       "    }\n",
       "\n",
       "    .dataframe thead th {\n",
       "        text-align: right;\n",
       "    }\n",
       "</style>\n",
       "<table border=\"1\" class=\"dataframe\">\n",
       "  <thead>\n",
       "    <tr style=\"text-align: right;\">\n",
       "      <th></th>\n",
       "      <th>Respondent</th>\n",
       "      <th>MainBranch</th>\n",
       "      <th>Hobbyist</th>\n",
       "      <th>OpenSourcer</th>\n",
       "      <th>OpenSource</th>\n",
       "      <th>Employment</th>\n",
       "      <th>Country</th>\n",
       "      <th>Student</th>\n",
       "      <th>EdLevel</th>\n",
       "      <th>UndergradMajor</th>\n",
       "      <th>...</th>\n",
       "      <th>WelcomeChange</th>\n",
       "      <th>SONewContent</th>\n",
       "      <th>Age</th>\n",
       "      <th>Gender</th>\n",
       "      <th>Trans</th>\n",
       "      <th>Sexuality</th>\n",
       "      <th>Ethnicity</th>\n",
       "      <th>Dependents</th>\n",
       "      <th>SurveyLength</th>\n",
       "      <th>SurveyEase</th>\n",
       "    </tr>\n",
       "  </thead>\n",
       "  <tbody>\n",
       "    <tr>\n",
       "      <th>0</th>\n",
       "      <td>4</td>\n",
       "      <td>I am a developer by profession</td>\n",
       "      <td>No</td>\n",
       "      <td>Never</td>\n",
       "      <td>The quality of OSS and closed source software ...</td>\n",
       "      <td>Employed full-time</td>\n",
       "      <td>United States</td>\n",
       "      <td>No</td>\n",
       "      <td>Bachelor’s degree (BA, BS, B.Eng., etc.)</td>\n",
       "      <td>Computer science, computer engineering, or sof...</td>\n",
       "      <td>...</td>\n",
       "      <td>Just as welcome now as I felt last year</td>\n",
       "      <td>Tech articles written by other developers;Indu...</td>\n",
       "      <td>22.0</td>\n",
       "      <td>Man</td>\n",
       "      <td>No</td>\n",
       "      <td>Straight / Heterosexual</td>\n",
       "      <td>White or of European descent</td>\n",
       "      <td>No</td>\n",
       "      <td>Appropriate in length</td>\n",
       "      <td>Easy</td>\n",
       "    </tr>\n",
       "    <tr>\n",
       "      <th>1</th>\n",
       "      <td>9</td>\n",
       "      <td>I am a developer by profession</td>\n",
       "      <td>Yes</td>\n",
       "      <td>Once a month or more often</td>\n",
       "      <td>The quality of OSS and closed source software ...</td>\n",
       "      <td>Employed full-time</td>\n",
       "      <td>New Zealand</td>\n",
       "      <td>No</td>\n",
       "      <td>Some college/university study without earning ...</td>\n",
       "      <td>Computer science, computer engineering, or sof...</td>\n",
       "      <td>...</td>\n",
       "      <td>Just as welcome now as I felt last year</td>\n",
       "      <td>NaN</td>\n",
       "      <td>23.0</td>\n",
       "      <td>Man</td>\n",
       "      <td>No</td>\n",
       "      <td>Bisexual</td>\n",
       "      <td>White or of European descent</td>\n",
       "      <td>No</td>\n",
       "      <td>Appropriate in length</td>\n",
       "      <td>Neither easy nor difficult</td>\n",
       "    </tr>\n",
       "    <tr>\n",
       "      <th>2</th>\n",
       "      <td>13</td>\n",
       "      <td>I am a developer by profession</td>\n",
       "      <td>Yes</td>\n",
       "      <td>Less than once a month but more than once per ...</td>\n",
       "      <td>OSS is, on average, of HIGHER quality than pro...</td>\n",
       "      <td>Employed full-time</td>\n",
       "      <td>United States</td>\n",
       "      <td>No</td>\n",
       "      <td>Master’s degree (MA, MS, M.Eng., MBA, etc.)</td>\n",
       "      <td>Computer science, computer engineering, or sof...</td>\n",
       "      <td>...</td>\n",
       "      <td>Somewhat more welcome now than last year</td>\n",
       "      <td>Tech articles written by other developers;Cour...</td>\n",
       "      <td>28.0</td>\n",
       "      <td>Man</td>\n",
       "      <td>No</td>\n",
       "      <td>Straight / Heterosexual</td>\n",
       "      <td>White or of European descent</td>\n",
       "      <td>Yes</td>\n",
       "      <td>Appropriate in length</td>\n",
       "      <td>Easy</td>\n",
       "    </tr>\n",
       "    <tr>\n",
       "      <th>3</th>\n",
       "      <td>16</td>\n",
       "      <td>I am a developer by profession</td>\n",
       "      <td>Yes</td>\n",
       "      <td>Never</td>\n",
       "      <td>The quality of OSS and closed source software ...</td>\n",
       "      <td>Employed full-time</td>\n",
       "      <td>United Kingdom</td>\n",
       "      <td>No</td>\n",
       "      <td>Master’s degree (MA, MS, M.Eng., MBA, etc.)</td>\n",
       "      <td>NaN</td>\n",
       "      <td>...</td>\n",
       "      <td>Just as welcome now as I felt last year</td>\n",
       "      <td>Tech articles written by other developers;Indu...</td>\n",
       "      <td>26.0</td>\n",
       "      <td>Man</td>\n",
       "      <td>No</td>\n",
       "      <td>Straight / Heterosexual</td>\n",
       "      <td>White or of European descent</td>\n",
       "      <td>No</td>\n",
       "      <td>Appropriate in length</td>\n",
       "      <td>Neither easy nor difficult</td>\n",
       "    </tr>\n",
       "    <tr>\n",
       "      <th>4</th>\n",
       "      <td>17</td>\n",
       "      <td>I am a developer by profession</td>\n",
       "      <td>Yes</td>\n",
       "      <td>Less than once a month but more than once per ...</td>\n",
       "      <td>The quality of OSS and closed source software ...</td>\n",
       "      <td>Employed full-time</td>\n",
       "      <td>Australia</td>\n",
       "      <td>No</td>\n",
       "      <td>Bachelor’s degree (BA, BS, B.Eng., etc.)</td>\n",
       "      <td>Computer science, computer engineering, or sof...</td>\n",
       "      <td>...</td>\n",
       "      <td>Just as welcome now as I felt last year</td>\n",
       "      <td>Tech articles written by other developers;Indu...</td>\n",
       "      <td>29.0</td>\n",
       "      <td>Man</td>\n",
       "      <td>No</td>\n",
       "      <td>Straight / Heterosexual</td>\n",
       "      <td>Hispanic or Latino/Latina;Multiracial</td>\n",
       "      <td>No</td>\n",
       "      <td>Appropriate in length</td>\n",
       "      <td>Easy</td>\n",
       "    </tr>\n",
       "  </tbody>\n",
       "</table>\n",
       "<p>5 rows × 85 columns</p>\n",
       "</div>"
      ],
      "text/plain": [
       "   Respondent                      MainBranch Hobbyist  \\\n",
       "0           4  I am a developer by profession       No   \n",
       "1           9  I am a developer by profession      Yes   \n",
       "2          13  I am a developer by profession      Yes   \n",
       "3          16  I am a developer by profession      Yes   \n",
       "4          17  I am a developer by profession      Yes   \n",
       "\n",
       "                                         OpenSourcer  \\\n",
       "0                                              Never   \n",
       "1                         Once a month or more often   \n",
       "2  Less than once a month but more than once per ...   \n",
       "3                                              Never   \n",
       "4  Less than once a month but more than once per ...   \n",
       "\n",
       "                                          OpenSource          Employment  \\\n",
       "0  The quality of OSS and closed source software ...  Employed full-time   \n",
       "1  The quality of OSS and closed source software ...  Employed full-time   \n",
       "2  OSS is, on average, of HIGHER quality than pro...  Employed full-time   \n",
       "3  The quality of OSS and closed source software ...  Employed full-time   \n",
       "4  The quality of OSS and closed source software ...  Employed full-time   \n",
       "\n",
       "          Country Student                                            EdLevel  \\\n",
       "0   United States      No           Bachelor’s degree (BA, BS, B.Eng., etc.)   \n",
       "1     New Zealand      No  Some college/university study without earning ...   \n",
       "2   United States      No        Master’s degree (MA, MS, M.Eng., MBA, etc.)   \n",
       "3  United Kingdom      No        Master’s degree (MA, MS, M.Eng., MBA, etc.)   \n",
       "4       Australia      No           Bachelor’s degree (BA, BS, B.Eng., etc.)   \n",
       "\n",
       "                                      UndergradMajor  ...  \\\n",
       "0  Computer science, computer engineering, or sof...  ...   \n",
       "1  Computer science, computer engineering, or sof...  ...   \n",
       "2  Computer science, computer engineering, or sof...  ...   \n",
       "3                                                NaN  ...   \n",
       "4  Computer science, computer engineering, or sof...  ...   \n",
       "\n",
       "                              WelcomeChange  \\\n",
       "0   Just as welcome now as I felt last year   \n",
       "1   Just as welcome now as I felt last year   \n",
       "2  Somewhat more welcome now than last year   \n",
       "3   Just as welcome now as I felt last year   \n",
       "4   Just as welcome now as I felt last year   \n",
       "\n",
       "                                        SONewContent   Age Gender Trans  \\\n",
       "0  Tech articles written by other developers;Indu...  22.0    Man    No   \n",
       "1                                                NaN  23.0    Man    No   \n",
       "2  Tech articles written by other developers;Cour...  28.0    Man    No   \n",
       "3  Tech articles written by other developers;Indu...  26.0    Man    No   \n",
       "4  Tech articles written by other developers;Indu...  29.0    Man    No   \n",
       "\n",
       "                 Sexuality                              Ethnicity Dependents  \\\n",
       "0  Straight / Heterosexual           White or of European descent         No   \n",
       "1                 Bisexual           White or of European descent         No   \n",
       "2  Straight / Heterosexual           White or of European descent        Yes   \n",
       "3  Straight / Heterosexual           White or of European descent         No   \n",
       "4  Straight / Heterosexual  Hispanic or Latino/Latina;Multiracial         No   \n",
       "\n",
       "            SurveyLength                  SurveyEase  \n",
       "0  Appropriate in length                        Easy  \n",
       "1  Appropriate in length  Neither easy nor difficult  \n",
       "2  Appropriate in length                        Easy  \n",
       "3  Appropriate in length  Neither easy nor difficult  \n",
       "4  Appropriate in length                        Easy  \n",
       "\n",
       "[5 rows x 85 columns]"
      ]
     },
     "execution_count": 4,
     "metadata": {},
     "output_type": "execute_result"
    }
   ],
   "source": [
    "df.head(5)"
   ]
  },
  {
   "cell_type": "code",
   "execution_count": 7,
   "metadata": {},
   "outputs": [
    {
     "data": {
      "text/plain": [
       "Index(['Respondent', 'MainBranch', 'Hobbyist', 'OpenSourcer', 'OpenSource',\n",
       "       'Employment', 'Country', 'Student', 'EdLevel', 'UndergradMajor',\n",
       "       'EduOther', 'OrgSize', 'DevType', 'YearsCode', 'Age1stCode',\n",
       "       'YearsCodePro', 'CareerSat', 'JobSat', 'MgrIdiot', 'MgrMoney',\n",
       "       'MgrWant', 'JobSeek', 'LastHireDate', 'LastInt', 'FizzBuzz',\n",
       "       'JobFactors', 'ResumeUpdate', 'CurrencySymbol', 'CurrencyDesc',\n",
       "       'CompTotal', 'CompFreq', 'ConvertedComp', 'WorkWeekHrs', 'WorkPlan',\n",
       "       'WorkChallenge', 'WorkRemote', 'WorkLoc', 'ImpSyn', 'CodeRev',\n",
       "       'CodeRevHrs', 'UnitTests', 'PurchaseHow', 'PurchaseWhat',\n",
       "       'LanguageWorkedWith', 'LanguageDesireNextYear', 'DatabaseWorkedWith',\n",
       "       'DatabaseDesireNextYear', 'PlatformWorkedWith',\n",
       "       'PlatformDesireNextYear', 'WebFrameWorkedWith',\n",
       "       'WebFrameDesireNextYear', 'MiscTechWorkedWith',\n",
       "       'MiscTechDesireNextYear', 'DevEnviron', 'OpSys', 'Containers',\n",
       "       'BlockchainOrg', 'BlockchainIs', 'BetterLife', 'ITperson', 'OffOn',\n",
       "       'SocialMedia', 'Extraversion', 'ScreenName', 'SOVisit1st',\n",
       "       'SOVisitFreq', 'SOVisitTo', 'SOFindAnswer', 'SOTimeSaved',\n",
       "       'SOHowMuchTime', 'SOAccount', 'SOPartFreq', 'SOJobs', 'EntTeams',\n",
       "       'SOComm', 'WelcomeChange', 'SONewContent', 'Age', 'Gender', 'Trans',\n",
       "       'Sexuality', 'Ethnicity', 'Dependents', 'SurveyLength', 'SurveyEase'],\n",
       "      dtype='object')"
      ]
     },
     "execution_count": 7,
     "metadata": {},
     "output_type": "execute_result"
    }
   ],
   "source": [
    "df.columns('ConvertedComp',)"
   ]
  },
  {
   "cell_type": "code",
   "execution_count": 8,
   "metadata": {},
   "outputs": [
    {
     "data": {
      "text/html": [
       "<div>\n",
       "<style scoped>\n",
       "    .dataframe tbody tr th:only-of-type {\n",
       "        vertical-align: middle;\n",
       "    }\n",
       "\n",
       "    .dataframe tbody tr th {\n",
       "        vertical-align: top;\n",
       "    }\n",
       "\n",
       "    .dataframe thead th {\n",
       "        text-align: right;\n",
       "    }\n",
       "</style>\n",
       "<table border=\"1\" class=\"dataframe\">\n",
       "  <thead>\n",
       "    <tr style=\"text-align: right;\">\n",
       "      <th></th>\n",
       "      <th>Respondent</th>\n",
       "      <th>MainBranch</th>\n",
       "      <th>Hobbyist</th>\n",
       "      <th>OpenSourcer</th>\n",
       "      <th>OpenSource</th>\n",
       "      <th>Employment</th>\n",
       "      <th>Country</th>\n",
       "      <th>Student</th>\n",
       "      <th>EdLevel</th>\n",
       "      <th>UndergradMajor</th>\n",
       "      <th>...</th>\n",
       "      <th>WelcomeChange</th>\n",
       "      <th>SONewContent</th>\n",
       "      <th>Age</th>\n",
       "      <th>Gender</th>\n",
       "      <th>Trans</th>\n",
       "      <th>Sexuality</th>\n",
       "      <th>Ethnicity</th>\n",
       "      <th>Dependents</th>\n",
       "      <th>SurveyLength</th>\n",
       "      <th>SurveyEase</th>\n",
       "    </tr>\n",
       "  </thead>\n",
       "  <tbody>\n",
       "    <tr>\n",
       "      <th>6</th>\n",
       "      <td>20</td>\n",
       "      <td>I am not primarily a developer, but I write co...</td>\n",
       "      <td>No</td>\n",
       "      <td>Never</td>\n",
       "      <td>OSS is, on average, of HIGHER quality than pro...</td>\n",
       "      <td>Employed full-time</td>\n",
       "      <td>Lithuania</td>\n",
       "      <td>No</td>\n",
       "      <td>Master’s degree (MA, MS, M.Eng., MBA, etc.)</td>\n",
       "      <td>Information systems, information technology, o...</td>\n",
       "      <td>...</td>\n",
       "      <td>Not applicable - I did not use Stack Overflow ...</td>\n",
       "      <td>Tech articles written by other developers</td>\n",
       "      <td>38.0</td>\n",
       "      <td>Man</td>\n",
       "      <td>No</td>\n",
       "      <td>Straight / Heterosexual</td>\n",
       "      <td>White or of European descent</td>\n",
       "      <td>Yes</td>\n",
       "      <td>Appropriate in length</td>\n",
       "      <td>Easy</td>\n",
       "    </tr>\n",
       "    <tr>\n",
       "      <th>15</th>\n",
       "      <td>39</td>\n",
       "      <td>I am a developer by profession</td>\n",
       "      <td>Yes</td>\n",
       "      <td>Less than once per year</td>\n",
       "      <td>The quality of OSS and closed source software ...</td>\n",
       "      <td>Employed full-time</td>\n",
       "      <td>United States</td>\n",
       "      <td>No</td>\n",
       "      <td>Bachelor’s degree (BA, BS, B.Eng., etc.)</td>\n",
       "      <td>Computer science, computer engineering, or sof...</td>\n",
       "      <td>...</td>\n",
       "      <td>Somewhat less welcome now than last year</td>\n",
       "      <td>Tech articles written by other developers</td>\n",
       "      <td>42.0</td>\n",
       "      <td>Man</td>\n",
       "      <td>No</td>\n",
       "      <td>Bisexual</td>\n",
       "      <td>White or of European descent</td>\n",
       "      <td>No</td>\n",
       "      <td>Appropriate in length</td>\n",
       "      <td>Easy</td>\n",
       "    </tr>\n",
       "    <tr>\n",
       "      <th>17</th>\n",
       "      <td>44</td>\n",
       "      <td>I am a developer by profession</td>\n",
       "      <td>Yes</td>\n",
       "      <td>Once a month or more often</td>\n",
       "      <td>The quality of OSS and closed source software ...</td>\n",
       "      <td>Employed full-time</td>\n",
       "      <td>Germany</td>\n",
       "      <td>No</td>\n",
       "      <td>Bachelor’s degree (BA, BS, B.Eng., etc.)</td>\n",
       "      <td>Information systems, information technology, o...</td>\n",
       "      <td>...</td>\n",
       "      <td>Just as welcome now as I felt last year</td>\n",
       "      <td>Tech articles written by other developers;Indu...</td>\n",
       "      <td>43.0</td>\n",
       "      <td>Man</td>\n",
       "      <td>No</td>\n",
       "      <td>Straight / Heterosexual</td>\n",
       "      <td>White or of European descent</td>\n",
       "      <td>Yes</td>\n",
       "      <td>Appropriate in length</td>\n",
       "      <td>Easy</td>\n",
       "    </tr>\n",
       "    <tr>\n",
       "      <th>36</th>\n",
       "      <td>83</td>\n",
       "      <td>I am a developer by profession</td>\n",
       "      <td>Yes</td>\n",
       "      <td>Less than once a month but more than once per ...</td>\n",
       "      <td>OSS is, on average, of HIGHER quality than pro...</td>\n",
       "      <td>Employed full-time</td>\n",
       "      <td>India</td>\n",
       "      <td>No</td>\n",
       "      <td>Bachelor’s degree (BA, BS, B.Eng., etc.)</td>\n",
       "      <td>Web development or web design</td>\n",
       "      <td>...</td>\n",
       "      <td>Just as welcome now as I felt last year</td>\n",
       "      <td>Industry news about technologies you're intere...</td>\n",
       "      <td>22.0</td>\n",
       "      <td>Man</td>\n",
       "      <td>No</td>\n",
       "      <td>Straight / Heterosexual</td>\n",
       "      <td>South Asian</td>\n",
       "      <td>No</td>\n",
       "      <td>Appropriate in length</td>\n",
       "      <td>Neither easy nor difficult</td>\n",
       "    </tr>\n",
       "    <tr>\n",
       "      <th>47</th>\n",
       "      <td>104</td>\n",
       "      <td>I am a developer by profession</td>\n",
       "      <td>Yes</td>\n",
       "      <td>Never</td>\n",
       "      <td>OSS is, on average, of LOWER quality than prop...</td>\n",
       "      <td>Employed full-time</td>\n",
       "      <td>India</td>\n",
       "      <td>Yes, full-time</td>\n",
       "      <td>Bachelor’s degree (BA, BS, B.Eng., etc.)</td>\n",
       "      <td>Computer science, computer engineering, or sof...</td>\n",
       "      <td>...</td>\n",
       "      <td>Just as welcome now as I felt last year</td>\n",
       "      <td>Tech articles written by other developers;Indu...</td>\n",
       "      <td>29.0</td>\n",
       "      <td>Man</td>\n",
       "      <td>No</td>\n",
       "      <td>Straight / Heterosexual</td>\n",
       "      <td>South Asian</td>\n",
       "      <td>Yes</td>\n",
       "      <td>Appropriate in length</td>\n",
       "      <td>Easy</td>\n",
       "    </tr>\n",
       "    <tr>\n",
       "      <th>...</th>\n",
       "      <td>...</td>\n",
       "      <td>...</td>\n",
       "      <td>...</td>\n",
       "      <td>...</td>\n",
       "      <td>...</td>\n",
       "      <td>...</td>\n",
       "      <td>...</td>\n",
       "      <td>...</td>\n",
       "      <td>...</td>\n",
       "      <td>...</td>\n",
       "      <td>...</td>\n",
       "      <td>...</td>\n",
       "      <td>...</td>\n",
       "      <td>...</td>\n",
       "      <td>...</td>\n",
       "      <td>...</td>\n",
       "      <td>...</td>\n",
       "      <td>...</td>\n",
       "      <td>...</td>\n",
       "      <td>...</td>\n",
       "      <td>...</td>\n",
       "    </tr>\n",
       "    <tr>\n",
       "      <th>11320</th>\n",
       "      <td>24975</td>\n",
       "      <td>I am a developer by profession</td>\n",
       "      <td>Yes</td>\n",
       "      <td>Never</td>\n",
       "      <td>The quality of OSS and closed source software ...</td>\n",
       "      <td>Employed full-time</td>\n",
       "      <td>United States</td>\n",
       "      <td>No</td>\n",
       "      <td>Bachelor’s degree (BA, BS, B.Eng., etc.)</td>\n",
       "      <td>Computer science, computer engineering, or sof...</td>\n",
       "      <td>...</td>\n",
       "      <td>Just as welcome now as I felt last year</td>\n",
       "      <td>Tech articles written by other developers;Tech...</td>\n",
       "      <td>39.0</td>\n",
       "      <td>Man</td>\n",
       "      <td>No</td>\n",
       "      <td>Straight / Heterosexual</td>\n",
       "      <td>White or of European descent</td>\n",
       "      <td>No</td>\n",
       "      <td>Appropriate in length</td>\n",
       "      <td>Neither easy nor difficult</td>\n",
       "    </tr>\n",
       "    <tr>\n",
       "      <th>11321</th>\n",
       "      <td>24977</td>\n",
       "      <td>I am a developer by profession</td>\n",
       "      <td>Yes</td>\n",
       "      <td>Less than once per year</td>\n",
       "      <td>The quality of OSS and closed source software ...</td>\n",
       "      <td>Employed part-time</td>\n",
       "      <td>Netherlands</td>\n",
       "      <td>No</td>\n",
       "      <td>Bachelor’s degree (BA, BS, B.Eng., etc.)</td>\n",
       "      <td>Computer science, computer engineering, or sof...</td>\n",
       "      <td>...</td>\n",
       "      <td>Just as welcome now as I felt last year</td>\n",
       "      <td>Tech articles written by other developers;Indu...</td>\n",
       "      <td>33.0</td>\n",
       "      <td>Man</td>\n",
       "      <td>No</td>\n",
       "      <td>Straight / Heterosexual</td>\n",
       "      <td>White or of European descent</td>\n",
       "      <td>Yes</td>\n",
       "      <td>Too long</td>\n",
       "      <td>Easy</td>\n",
       "    </tr>\n",
       "    <tr>\n",
       "      <th>11324</th>\n",
       "      <td>24985</td>\n",
       "      <td>I am a developer by profession</td>\n",
       "      <td>Yes</td>\n",
       "      <td>Never</td>\n",
       "      <td>The quality of OSS and closed source software ...</td>\n",
       "      <td>Employed part-time</td>\n",
       "      <td>Netherlands</td>\n",
       "      <td>Yes, part-time</td>\n",
       "      <td>Some college/university study without earning ...</td>\n",
       "      <td>Computer science, computer engineering, or sof...</td>\n",
       "      <td>...</td>\n",
       "      <td>Just as welcome now as I felt last year</td>\n",
       "      <td>Tech articles written by other developers;Cour...</td>\n",
       "      <td>20.0</td>\n",
       "      <td>Man</td>\n",
       "      <td>No</td>\n",
       "      <td>Straight / Heterosexual</td>\n",
       "      <td>White or of European descent</td>\n",
       "      <td>No</td>\n",
       "      <td>Appropriate in length</td>\n",
       "      <td>Easy</td>\n",
       "    </tr>\n",
       "    <tr>\n",
       "      <th>11345</th>\n",
       "      <td>25022</td>\n",
       "      <td>I am not primarily a developer, but I write co...</td>\n",
       "      <td>Yes</td>\n",
       "      <td>Less than once a month but more than once per ...</td>\n",
       "      <td>OSS is, on average, of HIGHER quality than pro...</td>\n",
       "      <td>Employed full-time</td>\n",
       "      <td>Canada</td>\n",
       "      <td>No</td>\n",
       "      <td>Bachelor’s degree (BA, BS, B.Eng., etc.)</td>\n",
       "      <td>Another engineering discipline (ex. civil, ele...</td>\n",
       "      <td>...</td>\n",
       "      <td>Just as welcome now as I felt last year</td>\n",
       "      <td>Tech articles written by other developers;Indu...</td>\n",
       "      <td>46.0</td>\n",
       "      <td>Man</td>\n",
       "      <td>No</td>\n",
       "      <td>Straight / Heterosexual</td>\n",
       "      <td>White or of European descent</td>\n",
       "      <td>Yes</td>\n",
       "      <td>Appropriate in length</td>\n",
       "      <td>Easy</td>\n",
       "    </tr>\n",
       "    <tr>\n",
       "      <th>11384</th>\n",
       "      <td>25118</td>\n",
       "      <td>I am a developer by profession</td>\n",
       "      <td>Yes</td>\n",
       "      <td>Never</td>\n",
       "      <td>The quality of OSS and closed source software ...</td>\n",
       "      <td>Employed full-time</td>\n",
       "      <td>Australia</td>\n",
       "      <td>No</td>\n",
       "      <td>Master’s degree (MA, MS, M.Eng., MBA, etc.)</td>\n",
       "      <td>Computer science, computer engineering, or sof...</td>\n",
       "      <td>...</td>\n",
       "      <td>Somewhat more welcome now than last year</td>\n",
       "      <td>Tech articles written by other developers;Indu...</td>\n",
       "      <td>31.0</td>\n",
       "      <td>Man</td>\n",
       "      <td>No</td>\n",
       "      <td>Straight / Heterosexual</td>\n",
       "      <td>East Asian</td>\n",
       "      <td>No</td>\n",
       "      <td>Too long</td>\n",
       "      <td>Easy</td>\n",
       "    </tr>\n",
       "  </tbody>\n",
       "</table>\n",
       "<p>1008 rows × 85 columns</p>\n",
       "</div>"
      ],
      "text/plain": [
       "       Respondent                                         MainBranch Hobbyist  \\\n",
       "6              20  I am not primarily a developer, but I write co...       No   \n",
       "15             39                     I am a developer by profession      Yes   \n",
       "17             44                     I am a developer by profession      Yes   \n",
       "36             83                     I am a developer by profession      Yes   \n",
       "47            104                     I am a developer by profession      Yes   \n",
       "...           ...                                                ...      ...   \n",
       "11320       24975                     I am a developer by profession      Yes   \n",
       "11321       24977                     I am a developer by profession      Yes   \n",
       "11324       24985                     I am a developer by profession      Yes   \n",
       "11345       25022  I am not primarily a developer, but I write co...      Yes   \n",
       "11384       25118                     I am a developer by profession      Yes   \n",
       "\n",
       "                                             OpenSourcer  \\\n",
       "6                                                  Never   \n",
       "15                               Less than once per year   \n",
       "17                            Once a month or more often   \n",
       "36     Less than once a month but more than once per ...   \n",
       "47                                                 Never   \n",
       "...                                                  ...   \n",
       "11320                                              Never   \n",
       "11321                            Less than once per year   \n",
       "11324                                              Never   \n",
       "11345  Less than once a month but more than once per ...   \n",
       "11384                                              Never   \n",
       "\n",
       "                                              OpenSource          Employment  \\\n",
       "6      OSS is, on average, of HIGHER quality than pro...  Employed full-time   \n",
       "15     The quality of OSS and closed source software ...  Employed full-time   \n",
       "17     The quality of OSS and closed source software ...  Employed full-time   \n",
       "36     OSS is, on average, of HIGHER quality than pro...  Employed full-time   \n",
       "47     OSS is, on average, of LOWER quality than prop...  Employed full-time   \n",
       "...                                                  ...                 ...   \n",
       "11320  The quality of OSS and closed source software ...  Employed full-time   \n",
       "11321  The quality of OSS and closed source software ...  Employed part-time   \n",
       "11324  The quality of OSS and closed source software ...  Employed part-time   \n",
       "11345  OSS is, on average, of HIGHER quality than pro...  Employed full-time   \n",
       "11384  The quality of OSS and closed source software ...  Employed full-time   \n",
       "\n",
       "             Country         Student  \\\n",
       "6          Lithuania              No   \n",
       "15     United States              No   \n",
       "17           Germany              No   \n",
       "36             India              No   \n",
       "47             India  Yes, full-time   \n",
       "...              ...             ...   \n",
       "11320  United States              No   \n",
       "11321    Netherlands              No   \n",
       "11324    Netherlands  Yes, part-time   \n",
       "11345         Canada              No   \n",
       "11384      Australia              No   \n",
       "\n",
       "                                                 EdLevel  \\\n",
       "6            Master’s degree (MA, MS, M.Eng., MBA, etc.)   \n",
       "15              Bachelor’s degree (BA, BS, B.Eng., etc.)   \n",
       "17              Bachelor’s degree (BA, BS, B.Eng., etc.)   \n",
       "36              Bachelor’s degree (BA, BS, B.Eng., etc.)   \n",
       "47              Bachelor’s degree (BA, BS, B.Eng., etc.)   \n",
       "...                                                  ...   \n",
       "11320           Bachelor’s degree (BA, BS, B.Eng., etc.)   \n",
       "11321           Bachelor’s degree (BA, BS, B.Eng., etc.)   \n",
       "11324  Some college/university study without earning ...   \n",
       "11345           Bachelor’s degree (BA, BS, B.Eng., etc.)   \n",
       "11384        Master’s degree (MA, MS, M.Eng., MBA, etc.)   \n",
       "\n",
       "                                          UndergradMajor  ...  \\\n",
       "6      Information systems, information technology, o...  ...   \n",
       "15     Computer science, computer engineering, or sof...  ...   \n",
       "17     Information systems, information technology, o...  ...   \n",
       "36                         Web development or web design  ...   \n",
       "47     Computer science, computer engineering, or sof...  ...   \n",
       "...                                                  ...  ...   \n",
       "11320  Computer science, computer engineering, or sof...  ...   \n",
       "11321  Computer science, computer engineering, or sof...  ...   \n",
       "11324  Computer science, computer engineering, or sof...  ...   \n",
       "11345  Another engineering discipline (ex. civil, ele...  ...   \n",
       "11384  Computer science, computer engineering, or sof...  ...   \n",
       "\n",
       "                                           WelcomeChange  \\\n",
       "6      Not applicable - I did not use Stack Overflow ...   \n",
       "15              Somewhat less welcome now than last year   \n",
       "17               Just as welcome now as I felt last year   \n",
       "36               Just as welcome now as I felt last year   \n",
       "47               Just as welcome now as I felt last year   \n",
       "...                                                  ...   \n",
       "11320            Just as welcome now as I felt last year   \n",
       "11321            Just as welcome now as I felt last year   \n",
       "11324            Just as welcome now as I felt last year   \n",
       "11345            Just as welcome now as I felt last year   \n",
       "11384           Somewhat more welcome now than last year   \n",
       "\n",
       "                                            SONewContent   Age Gender Trans  \\\n",
       "6              Tech articles written by other developers  38.0    Man    No   \n",
       "15             Tech articles written by other developers  42.0    Man    No   \n",
       "17     Tech articles written by other developers;Indu...  43.0    Man    No   \n",
       "36     Industry news about technologies you're intere...  22.0    Man    No   \n",
       "47     Tech articles written by other developers;Indu...  29.0    Man    No   \n",
       "...                                                  ...   ...    ...   ...   \n",
       "11320  Tech articles written by other developers;Tech...  39.0    Man    No   \n",
       "11321  Tech articles written by other developers;Indu...  33.0    Man    No   \n",
       "11324  Tech articles written by other developers;Cour...  20.0    Man    No   \n",
       "11345  Tech articles written by other developers;Indu...  46.0    Man    No   \n",
       "11384  Tech articles written by other developers;Indu...  31.0    Man    No   \n",
       "\n",
       "                     Sexuality                     Ethnicity Dependents  \\\n",
       "6      Straight / Heterosexual  White or of European descent        Yes   \n",
       "15                    Bisexual  White or of European descent         No   \n",
       "17     Straight / Heterosexual  White or of European descent        Yes   \n",
       "36     Straight / Heterosexual                   South Asian         No   \n",
       "47     Straight / Heterosexual                   South Asian        Yes   \n",
       "...                        ...                           ...        ...   \n",
       "11320  Straight / Heterosexual  White or of European descent         No   \n",
       "11321  Straight / Heterosexual  White or of European descent        Yes   \n",
       "11324  Straight / Heterosexual  White or of European descent         No   \n",
       "11345  Straight / Heterosexual  White or of European descent        Yes   \n",
       "11384  Straight / Heterosexual                    East Asian         No   \n",
       "\n",
       "                SurveyLength                  SurveyEase  \n",
       "6      Appropriate in length                        Easy  \n",
       "15     Appropriate in length                        Easy  \n",
       "17     Appropriate in length                        Easy  \n",
       "36     Appropriate in length  Neither easy nor difficult  \n",
       "47     Appropriate in length                        Easy  \n",
       "...                      ...                         ...  \n",
       "11320  Appropriate in length  Neither easy nor difficult  \n",
       "11321               Too long                        Easy  \n",
       "11324  Appropriate in length                        Easy  \n",
       "11345  Appropriate in length                        Easy  \n",
       "11384               Too long                        Easy  \n",
       "\n",
       "[1008 rows x 85 columns]"
      ]
     },
     "execution_count": 8,
     "metadata": {},
     "output_type": "execute_result"
    }
   ],
   "source": [
    "df.dropna()"
   ]
  },
  {
   "cell_type": "code",
   "execution_count": 9,
   "metadata": {},
   "outputs": [
    {
     "data": {
      "text/plain": [
       "Respondent        0\n",
       "MainBranch        0\n",
       "Hobbyist          0\n",
       "OpenSourcer       0\n",
       "OpenSource       81\n",
       "               ... \n",
       "Sexuality       542\n",
       "Ethnicity       675\n",
       "Dependents      140\n",
       "SurveyLength     19\n",
       "SurveyEase       14\n",
       "Length: 85, dtype: int64"
      ]
     },
     "execution_count": 9,
     "metadata": {},
     "output_type": "execute_result"
    }
   ],
   "source": [
    "df.isna().sum()"
   ]
  },
  {
   "cell_type": "code",
   "execution_count": 12,
   "metadata": {},
   "outputs": [
    {
     "data": {
      "text/html": [
       "<div>\n",
       "<style scoped>\n",
       "    .dataframe tbody tr th:only-of-type {\n",
       "        vertical-align: middle;\n",
       "    }\n",
       "\n",
       "    .dataframe tbody tr th {\n",
       "        vertical-align: top;\n",
       "    }\n",
       "\n",
       "    .dataframe thead th {\n",
       "        text-align: right;\n",
       "    }\n",
       "</style>\n",
       "<table border=\"1\" class=\"dataframe\">\n",
       "  <thead>\n",
       "    <tr style=\"text-align: right;\">\n",
       "      <th></th>\n",
       "      <th>Respondent</th>\n",
       "      <th>MainBranch</th>\n",
       "      <th>Hobbyist</th>\n",
       "      <th>OpenSourcer</th>\n",
       "      <th>OpenSource</th>\n",
       "      <th>Employment</th>\n",
       "      <th>Country</th>\n",
       "      <th>Student</th>\n",
       "      <th>EdLevel</th>\n",
       "      <th>UndergradMajor</th>\n",
       "      <th>...</th>\n",
       "      <th>WelcomeChange</th>\n",
       "      <th>SONewContent</th>\n",
       "      <th>Age</th>\n",
       "      <th>Gender</th>\n",
       "      <th>Trans</th>\n",
       "      <th>Sexuality</th>\n",
       "      <th>Ethnicity</th>\n",
       "      <th>Dependents</th>\n",
       "      <th>SurveyLength</th>\n",
       "      <th>SurveyEase</th>\n",
       "    </tr>\n",
       "  </thead>\n",
       "  <tbody>\n",
       "    <tr>\n",
       "      <th>6</th>\n",
       "      <td>20</td>\n",
       "      <td>I am not primarily a developer, but I write co...</td>\n",
       "      <td>No</td>\n",
       "      <td>Never</td>\n",
       "      <td>OSS is, on average, of HIGHER quality than pro...</td>\n",
       "      <td>Employed full-time</td>\n",
       "      <td>Lithuania</td>\n",
       "      <td>No</td>\n",
       "      <td>Master’s degree (MA, MS, M.Eng., MBA, etc.)</td>\n",
       "      <td>Information systems, information technology, o...</td>\n",
       "      <td>...</td>\n",
       "      <td>Not applicable - I did not use Stack Overflow ...</td>\n",
       "      <td>Tech articles written by other developers</td>\n",
       "      <td>38.0</td>\n",
       "      <td>Man</td>\n",
       "      <td>No</td>\n",
       "      <td>Straight / Heterosexual</td>\n",
       "      <td>White or of European descent</td>\n",
       "      <td>Yes</td>\n",
       "      <td>Appropriate in length</td>\n",
       "      <td>Easy</td>\n",
       "    </tr>\n",
       "    <tr>\n",
       "      <th>15</th>\n",
       "      <td>39</td>\n",
       "      <td>I am a developer by profession</td>\n",
       "      <td>Yes</td>\n",
       "      <td>Less than once per year</td>\n",
       "      <td>The quality of OSS and closed source software ...</td>\n",
       "      <td>Employed full-time</td>\n",
       "      <td>United States</td>\n",
       "      <td>No</td>\n",
       "      <td>Bachelor’s degree (BA, BS, B.Eng., etc.)</td>\n",
       "      <td>Computer science, computer engineering, or sof...</td>\n",
       "      <td>...</td>\n",
       "      <td>Somewhat less welcome now than last year</td>\n",
       "      <td>Tech articles written by other developers</td>\n",
       "      <td>42.0</td>\n",
       "      <td>Man</td>\n",
       "      <td>No</td>\n",
       "      <td>Bisexual</td>\n",
       "      <td>White or of European descent</td>\n",
       "      <td>No</td>\n",
       "      <td>Appropriate in length</td>\n",
       "      <td>Easy</td>\n",
       "    </tr>\n",
       "    <tr>\n",
       "      <th>17</th>\n",
       "      <td>44</td>\n",
       "      <td>I am a developer by profession</td>\n",
       "      <td>Yes</td>\n",
       "      <td>Once a month or more often</td>\n",
       "      <td>The quality of OSS and closed source software ...</td>\n",
       "      <td>Employed full-time</td>\n",
       "      <td>Germany</td>\n",
       "      <td>No</td>\n",
       "      <td>Bachelor’s degree (BA, BS, B.Eng., etc.)</td>\n",
       "      <td>Information systems, information technology, o...</td>\n",
       "      <td>...</td>\n",
       "      <td>Just as welcome now as I felt last year</td>\n",
       "      <td>Tech articles written by other developers;Indu...</td>\n",
       "      <td>43.0</td>\n",
       "      <td>Man</td>\n",
       "      <td>No</td>\n",
       "      <td>Straight / Heterosexual</td>\n",
       "      <td>White or of European descent</td>\n",
       "      <td>Yes</td>\n",
       "      <td>Appropriate in length</td>\n",
       "      <td>Easy</td>\n",
       "    </tr>\n",
       "    <tr>\n",
       "      <th>36</th>\n",
       "      <td>83</td>\n",
       "      <td>I am a developer by profession</td>\n",
       "      <td>Yes</td>\n",
       "      <td>Less than once a month but more than once per ...</td>\n",
       "      <td>OSS is, on average, of HIGHER quality than pro...</td>\n",
       "      <td>Employed full-time</td>\n",
       "      <td>India</td>\n",
       "      <td>No</td>\n",
       "      <td>Bachelor’s degree (BA, BS, B.Eng., etc.)</td>\n",
       "      <td>Web development or web design</td>\n",
       "      <td>...</td>\n",
       "      <td>Just as welcome now as I felt last year</td>\n",
       "      <td>Industry news about technologies you're intere...</td>\n",
       "      <td>22.0</td>\n",
       "      <td>Man</td>\n",
       "      <td>No</td>\n",
       "      <td>Straight / Heterosexual</td>\n",
       "      <td>South Asian</td>\n",
       "      <td>No</td>\n",
       "      <td>Appropriate in length</td>\n",
       "      <td>Neither easy nor difficult</td>\n",
       "    </tr>\n",
       "    <tr>\n",
       "      <th>47</th>\n",
       "      <td>104</td>\n",
       "      <td>I am a developer by profession</td>\n",
       "      <td>Yes</td>\n",
       "      <td>Never</td>\n",
       "      <td>OSS is, on average, of LOWER quality than prop...</td>\n",
       "      <td>Employed full-time</td>\n",
       "      <td>India</td>\n",
       "      <td>Yes, full-time</td>\n",
       "      <td>Bachelor’s degree (BA, BS, B.Eng., etc.)</td>\n",
       "      <td>Computer science, computer engineering, or sof...</td>\n",
       "      <td>...</td>\n",
       "      <td>Just as welcome now as I felt last year</td>\n",
       "      <td>Tech articles written by other developers;Indu...</td>\n",
       "      <td>29.0</td>\n",
       "      <td>Man</td>\n",
       "      <td>No</td>\n",
       "      <td>Straight / Heterosexual</td>\n",
       "      <td>South Asian</td>\n",
       "      <td>Yes</td>\n",
       "      <td>Appropriate in length</td>\n",
       "      <td>Easy</td>\n",
       "    </tr>\n",
       "    <tr>\n",
       "      <th>...</th>\n",
       "      <td>...</td>\n",
       "      <td>...</td>\n",
       "      <td>...</td>\n",
       "      <td>...</td>\n",
       "      <td>...</td>\n",
       "      <td>...</td>\n",
       "      <td>...</td>\n",
       "      <td>...</td>\n",
       "      <td>...</td>\n",
       "      <td>...</td>\n",
       "      <td>...</td>\n",
       "      <td>...</td>\n",
       "      <td>...</td>\n",
       "      <td>...</td>\n",
       "      <td>...</td>\n",
       "      <td>...</td>\n",
       "      <td>...</td>\n",
       "      <td>...</td>\n",
       "      <td>...</td>\n",
       "      <td>...</td>\n",
       "      <td>...</td>\n",
       "    </tr>\n",
       "    <tr>\n",
       "      <th>11320</th>\n",
       "      <td>24975</td>\n",
       "      <td>I am a developer by profession</td>\n",
       "      <td>Yes</td>\n",
       "      <td>Never</td>\n",
       "      <td>The quality of OSS and closed source software ...</td>\n",
       "      <td>Employed full-time</td>\n",
       "      <td>United States</td>\n",
       "      <td>No</td>\n",
       "      <td>Bachelor’s degree (BA, BS, B.Eng., etc.)</td>\n",
       "      <td>Computer science, computer engineering, or sof...</td>\n",
       "      <td>...</td>\n",
       "      <td>Just as welcome now as I felt last year</td>\n",
       "      <td>Tech articles written by other developers;Tech...</td>\n",
       "      <td>39.0</td>\n",
       "      <td>Man</td>\n",
       "      <td>No</td>\n",
       "      <td>Straight / Heterosexual</td>\n",
       "      <td>White or of European descent</td>\n",
       "      <td>No</td>\n",
       "      <td>Appropriate in length</td>\n",
       "      <td>Neither easy nor difficult</td>\n",
       "    </tr>\n",
       "    <tr>\n",
       "      <th>11321</th>\n",
       "      <td>24977</td>\n",
       "      <td>I am a developer by profession</td>\n",
       "      <td>Yes</td>\n",
       "      <td>Less than once per year</td>\n",
       "      <td>The quality of OSS and closed source software ...</td>\n",
       "      <td>Employed part-time</td>\n",
       "      <td>Netherlands</td>\n",
       "      <td>No</td>\n",
       "      <td>Bachelor’s degree (BA, BS, B.Eng., etc.)</td>\n",
       "      <td>Computer science, computer engineering, or sof...</td>\n",
       "      <td>...</td>\n",
       "      <td>Just as welcome now as I felt last year</td>\n",
       "      <td>Tech articles written by other developers;Indu...</td>\n",
       "      <td>33.0</td>\n",
       "      <td>Man</td>\n",
       "      <td>No</td>\n",
       "      <td>Straight / Heterosexual</td>\n",
       "      <td>White or of European descent</td>\n",
       "      <td>Yes</td>\n",
       "      <td>Too long</td>\n",
       "      <td>Easy</td>\n",
       "    </tr>\n",
       "    <tr>\n",
       "      <th>11324</th>\n",
       "      <td>24985</td>\n",
       "      <td>I am a developer by profession</td>\n",
       "      <td>Yes</td>\n",
       "      <td>Never</td>\n",
       "      <td>The quality of OSS and closed source software ...</td>\n",
       "      <td>Employed part-time</td>\n",
       "      <td>Netherlands</td>\n",
       "      <td>Yes, part-time</td>\n",
       "      <td>Some college/university study without earning ...</td>\n",
       "      <td>Computer science, computer engineering, or sof...</td>\n",
       "      <td>...</td>\n",
       "      <td>Just as welcome now as I felt last year</td>\n",
       "      <td>Tech articles written by other developers;Cour...</td>\n",
       "      <td>20.0</td>\n",
       "      <td>Man</td>\n",
       "      <td>No</td>\n",
       "      <td>Straight / Heterosexual</td>\n",
       "      <td>White or of European descent</td>\n",
       "      <td>No</td>\n",
       "      <td>Appropriate in length</td>\n",
       "      <td>Easy</td>\n",
       "    </tr>\n",
       "    <tr>\n",
       "      <th>11345</th>\n",
       "      <td>25022</td>\n",
       "      <td>I am not primarily a developer, but I write co...</td>\n",
       "      <td>Yes</td>\n",
       "      <td>Less than once a month but more than once per ...</td>\n",
       "      <td>OSS is, on average, of HIGHER quality than pro...</td>\n",
       "      <td>Employed full-time</td>\n",
       "      <td>Canada</td>\n",
       "      <td>No</td>\n",
       "      <td>Bachelor’s degree (BA, BS, B.Eng., etc.)</td>\n",
       "      <td>Another engineering discipline (ex. civil, ele...</td>\n",
       "      <td>...</td>\n",
       "      <td>Just as welcome now as I felt last year</td>\n",
       "      <td>Tech articles written by other developers;Indu...</td>\n",
       "      <td>46.0</td>\n",
       "      <td>Man</td>\n",
       "      <td>No</td>\n",
       "      <td>Straight / Heterosexual</td>\n",
       "      <td>White or of European descent</td>\n",
       "      <td>Yes</td>\n",
       "      <td>Appropriate in length</td>\n",
       "      <td>Easy</td>\n",
       "    </tr>\n",
       "    <tr>\n",
       "      <th>11384</th>\n",
       "      <td>25118</td>\n",
       "      <td>I am a developer by profession</td>\n",
       "      <td>Yes</td>\n",
       "      <td>Never</td>\n",
       "      <td>The quality of OSS and closed source software ...</td>\n",
       "      <td>Employed full-time</td>\n",
       "      <td>Australia</td>\n",
       "      <td>No</td>\n",
       "      <td>Master’s degree (MA, MS, M.Eng., MBA, etc.)</td>\n",
       "      <td>Computer science, computer engineering, or sof...</td>\n",
       "      <td>...</td>\n",
       "      <td>Somewhat more welcome now than last year</td>\n",
       "      <td>Tech articles written by other developers;Indu...</td>\n",
       "      <td>31.0</td>\n",
       "      <td>Man</td>\n",
       "      <td>No</td>\n",
       "      <td>Straight / Heterosexual</td>\n",
       "      <td>East Asian</td>\n",
       "      <td>No</td>\n",
       "      <td>Too long</td>\n",
       "      <td>Easy</td>\n",
       "    </tr>\n",
       "  </tbody>\n",
       "</table>\n",
       "<p>1008 rows × 85 columns</p>\n",
       "</div>"
      ],
      "text/plain": [
       "       Respondent                                         MainBranch Hobbyist  \\\n",
       "6              20  I am not primarily a developer, but I write co...       No   \n",
       "15             39                     I am a developer by profession      Yes   \n",
       "17             44                     I am a developer by profession      Yes   \n",
       "36             83                     I am a developer by profession      Yes   \n",
       "47            104                     I am a developer by profession      Yes   \n",
       "...           ...                                                ...      ...   \n",
       "11320       24975                     I am a developer by profession      Yes   \n",
       "11321       24977                     I am a developer by profession      Yes   \n",
       "11324       24985                     I am a developer by profession      Yes   \n",
       "11345       25022  I am not primarily a developer, but I write co...      Yes   \n",
       "11384       25118                     I am a developer by profession      Yes   \n",
       "\n",
       "                                             OpenSourcer  \\\n",
       "6                                                  Never   \n",
       "15                               Less than once per year   \n",
       "17                            Once a month or more often   \n",
       "36     Less than once a month but more than once per ...   \n",
       "47                                                 Never   \n",
       "...                                                  ...   \n",
       "11320                                              Never   \n",
       "11321                            Less than once per year   \n",
       "11324                                              Never   \n",
       "11345  Less than once a month but more than once per ...   \n",
       "11384                                              Never   \n",
       "\n",
       "                                              OpenSource          Employment  \\\n",
       "6      OSS is, on average, of HIGHER quality than pro...  Employed full-time   \n",
       "15     The quality of OSS and closed source software ...  Employed full-time   \n",
       "17     The quality of OSS and closed source software ...  Employed full-time   \n",
       "36     OSS is, on average, of HIGHER quality than pro...  Employed full-time   \n",
       "47     OSS is, on average, of LOWER quality than prop...  Employed full-time   \n",
       "...                                                  ...                 ...   \n",
       "11320  The quality of OSS and closed source software ...  Employed full-time   \n",
       "11321  The quality of OSS and closed source software ...  Employed part-time   \n",
       "11324  The quality of OSS and closed source software ...  Employed part-time   \n",
       "11345  OSS is, on average, of HIGHER quality than pro...  Employed full-time   \n",
       "11384  The quality of OSS and closed source software ...  Employed full-time   \n",
       "\n",
       "             Country         Student  \\\n",
       "6          Lithuania              No   \n",
       "15     United States              No   \n",
       "17           Germany              No   \n",
       "36             India              No   \n",
       "47             India  Yes, full-time   \n",
       "...              ...             ...   \n",
       "11320  United States              No   \n",
       "11321    Netherlands              No   \n",
       "11324    Netherlands  Yes, part-time   \n",
       "11345         Canada              No   \n",
       "11384      Australia              No   \n",
       "\n",
       "                                                 EdLevel  \\\n",
       "6            Master’s degree (MA, MS, M.Eng., MBA, etc.)   \n",
       "15              Bachelor’s degree (BA, BS, B.Eng., etc.)   \n",
       "17              Bachelor’s degree (BA, BS, B.Eng., etc.)   \n",
       "36              Bachelor’s degree (BA, BS, B.Eng., etc.)   \n",
       "47              Bachelor’s degree (BA, BS, B.Eng., etc.)   \n",
       "...                                                  ...   \n",
       "11320           Bachelor’s degree (BA, BS, B.Eng., etc.)   \n",
       "11321           Bachelor’s degree (BA, BS, B.Eng., etc.)   \n",
       "11324  Some college/university study without earning ...   \n",
       "11345           Bachelor’s degree (BA, BS, B.Eng., etc.)   \n",
       "11384        Master’s degree (MA, MS, M.Eng., MBA, etc.)   \n",
       "\n",
       "                                          UndergradMajor  ...  \\\n",
       "6      Information systems, information technology, o...  ...   \n",
       "15     Computer science, computer engineering, or sof...  ...   \n",
       "17     Information systems, information technology, o...  ...   \n",
       "36                         Web development or web design  ...   \n",
       "47     Computer science, computer engineering, or sof...  ...   \n",
       "...                                                  ...  ...   \n",
       "11320  Computer science, computer engineering, or sof...  ...   \n",
       "11321  Computer science, computer engineering, or sof...  ...   \n",
       "11324  Computer science, computer engineering, or sof...  ...   \n",
       "11345  Another engineering discipline (ex. civil, ele...  ...   \n",
       "11384  Computer science, computer engineering, or sof...  ...   \n",
       "\n",
       "                                           WelcomeChange  \\\n",
       "6      Not applicable - I did not use Stack Overflow ...   \n",
       "15              Somewhat less welcome now than last year   \n",
       "17               Just as welcome now as I felt last year   \n",
       "36               Just as welcome now as I felt last year   \n",
       "47               Just as welcome now as I felt last year   \n",
       "...                                                  ...   \n",
       "11320            Just as welcome now as I felt last year   \n",
       "11321            Just as welcome now as I felt last year   \n",
       "11324            Just as welcome now as I felt last year   \n",
       "11345            Just as welcome now as I felt last year   \n",
       "11384           Somewhat more welcome now than last year   \n",
       "\n",
       "                                            SONewContent   Age Gender Trans  \\\n",
       "6              Tech articles written by other developers  38.0    Man    No   \n",
       "15             Tech articles written by other developers  42.0    Man    No   \n",
       "17     Tech articles written by other developers;Indu...  43.0    Man    No   \n",
       "36     Industry news about technologies you're intere...  22.0    Man    No   \n",
       "47     Tech articles written by other developers;Indu...  29.0    Man    No   \n",
       "...                                                  ...   ...    ...   ...   \n",
       "11320  Tech articles written by other developers;Tech...  39.0    Man    No   \n",
       "11321  Tech articles written by other developers;Indu...  33.0    Man    No   \n",
       "11324  Tech articles written by other developers;Cour...  20.0    Man    No   \n",
       "11345  Tech articles written by other developers;Indu...  46.0    Man    No   \n",
       "11384  Tech articles written by other developers;Indu...  31.0    Man    No   \n",
       "\n",
       "                     Sexuality                     Ethnicity Dependents  \\\n",
       "6      Straight / Heterosexual  White or of European descent        Yes   \n",
       "15                    Bisexual  White or of European descent         No   \n",
       "17     Straight / Heterosexual  White or of European descent        Yes   \n",
       "36     Straight / Heterosexual                   South Asian         No   \n",
       "47     Straight / Heterosexual                   South Asian        Yes   \n",
       "...                        ...                           ...        ...   \n",
       "11320  Straight / Heterosexual  White or of European descent         No   \n",
       "11321  Straight / Heterosexual  White or of European descent        Yes   \n",
       "11324  Straight / Heterosexual  White or of European descent         No   \n",
       "11345  Straight / Heterosexual  White or of European descent        Yes   \n",
       "11384  Straight / Heterosexual                    East Asian         No   \n",
       "\n",
       "                SurveyLength                  SurveyEase  \n",
       "6      Appropriate in length                        Easy  \n",
       "15     Appropriate in length                        Easy  \n",
       "17     Appropriate in length                        Easy  \n",
       "36     Appropriate in length  Neither easy nor difficult  \n",
       "47     Appropriate in length                        Easy  \n",
       "...                      ...                         ...  \n",
       "11320  Appropriate in length  Neither easy nor difficult  \n",
       "11321               Too long                        Easy  \n",
       "11324  Appropriate in length                        Easy  \n",
       "11345  Appropriate in length                        Easy  \n",
       "11384               Too long                        Easy  \n",
       "\n",
       "[1008 rows x 85 columns]"
      ]
     },
     "execution_count": 12,
     "metadata": {},
     "output_type": "execute_result"
    }
   ],
   "source": [
    "df.dropna()"
   ]
  },
  {
   "cell_type": "code",
   "execution_count": 15,
   "metadata": {},
   "outputs": [
    {
     "data": {
      "text/plain": [
       "Respondent       int64\n",
       "MainBranch      object\n",
       "Hobbyist        object\n",
       "OpenSourcer     object\n",
       "OpenSource      object\n",
       "                 ...  \n",
       "Sexuality       object\n",
       "Ethnicity       object\n",
       "Dependents      object\n",
       "SurveyLength    object\n",
       "SurveyEase      object\n",
       "Length: 85, dtype: object"
      ]
     },
     "execution_count": 15,
     "metadata": {},
     "output_type": "execute_result"
    }
   ],
   "source": [
    "df.dtypes"
   ]
  },
  {
   "cell_type": "code",
   "execution_count": 16,
   "metadata": {},
   "outputs": [
    {
     "data": {
      "text/plain": [
       "6         41244.0\n",
       "15       156000.0\n",
       "17        87996.0\n",
       "36       117540.0\n",
       "47         2169.0\n",
       "           ...   \n",
       "11320     71085.0\n",
       "11321     35518.0\n",
       "11324     11004.0\n",
       "11345     68705.0\n",
       "11384     58024.0\n",
       "Name: ConvertedComp, Length: 1008, dtype: float64"
      ]
     },
     "execution_count": 16,
     "metadata": {},
     "output_type": "execute_result"
    }
   ],
   "source": [
    "df['ConvertedComp'].dropna()"
   ]
  },
  {
   "cell_type": "markdown",
   "metadata": {},
   "source": [
    "## Distribution\n"
   ]
  },
  {
   "cell_type": "markdown",
   "metadata": {},
   "source": [
    "### Determine how the data is distributed\n"
   ]
  },
  {
   "cell_type": "markdown",
   "metadata": {},
   "source": [
    "The column `ConvertedComp` contains Salary converted to annual USD salaries using the exchange rate on 2019-02-01.\n",
    "\n",
    "This assumes 12 working months and 50 working weeks.\n"
   ]
  },
  {
   "cell_type": "markdown",
   "metadata": {},
   "source": [
    "Plot the distribution curve for the column `ConvertedComp`.\n"
   ]
  },
  {
   "cell_type": "code",
   "execution_count": 21,
   "metadata": {},
   "outputs": [
    {
     "data": {
      "image/png": "[encoded data removed]",
      "text/plain": [
       "<Figure size 1000x600 with 1 Axes>"
      ]
     },
     "metadata": {},
     "output_type": "display_data"
    }
   ],
   "source": [
    "import matplotlib.pyplot as plt\n",
    "import seaborn as sns\n",
    "# your code goes here\n",
    "plt.figure(figsize=(10, 6))\n",
    "# Plotting a kernel density estimation (KDE) plot\n",
    "sns.histplot(df['ConvertedComp'], kde=True, color='skyblue')\n",
    "\n",
    "plt.title('Distribution of Salary (ConvertedComp)')\n",
    "plt.xlabel('Salary (USD)')\n",
    "plt.ylabel('Density')\n",
    "plt.grid(True)\n",
    "plt.show()"
   ]
  },
  {
   "cell_type": "markdown",
   "metadata": {},
   "source": [
    "Plot the histogram for the column `ConvertedComp`.\n"
   ]
  },
  {
   "cell_type": "code",
   "execution_count": 22,
   "metadata": {},
   "outputs": [
    {
     "data": {
      "image/png": "[encoded data removed]",
      "text/plain": [
       "<Figure size 1000x600 with 1 Axes>"
      ]
     },
     "metadata": {},
     "output_type": "display_data"
    }
   ],
   "source": [
    "# your code goes here\n",
    "plt.figure(figsize=(10, 6))\n",
    "\n",
    "# Plotting the histogram\n",
    "plt.hist(df['ConvertedComp'], bins=30, color='skyblue', edgecolor='black')\n",
    "\n",
    "plt.title('Histogram of Salary (ConvertedComp)')\n",
    "plt.xlabel('Salary (USD)')\n",
    "plt.ylabel('Frequency')\n",
    "plt.grid(True)\n",
    "plt.show()"
   ]
  },
  {
   "cell_type": "markdown",
   "metadata": {},
   "source": [
    "What is the median of the column `ConvertedComp`?\n"
   ]
  },
  {
   "cell_type": "code",
   "execution_count": 24,
   "metadata": {},
   "outputs": [
    {
     "name": "stdout",
     "output_type": "stream",
     "text": [
      "Median of the 'ConvertedComp' column: 65537.5\n"
     ]
    }
   ],
   "source": [
    "# your code goes here\n",
    "df['ConvertedComp'].median()\n",
    "\n",
    "print(\"Median of the 'ConvertedComp' column:\", df['ConvertedComp'].median())"
   ]
  },
  {
   "cell_type": "markdown",
   "metadata": {},
   "source": [
    "How many responders identified themselves only as a **Man**?\n"
   ]
  },
  {
   "cell_type": "code",
   "execution_count": 25,
   "metadata": {},
   "outputs": [
    {
     "name": "stdout",
     "output_type": "stream",
     "text": [
      "Number of responders who identified only as a Man: 962\n"
     ]
    }
   ],
   "source": [
    "# your code goes here\n",
    "man_only_count = df[df['Gender'] == 'Man']['Gender'].count()\n",
    "\n",
    "print(\"Number of responders who identified only as a Man:\", man_only_count)"
   ]
  },
  {
   "cell_type": "markdown",
   "metadata": {},
   "source": [
    "Find out the  median ConvertedComp of responders identified themselves only as a **Woman**?\n"
   ]
  },
  {
   "cell_type": "code",
   "execution_count": 26,
   "metadata": {},
   "outputs": [
    {
     "name": "stdout",
     "output_type": "stream",
     "text": [
      "Median ConvertedComp of responders identified only as a Woman: 60000.0\n"
     ]
    }
   ],
   "source": [
    "# your code goes here\n",
    "df['ConvertedComp'].median()\n",
    "woman_data = df[df['Gender'] == 'Woman']\n",
    "\n",
    "# Calculate the median ConvertedComp for responders identified only as a Woman\n",
    "median_converted_comp_woman = woman_data['ConvertedComp'].median()\n",
    "\n",
    "print(\"Median ConvertedComp of responders identified only as a Woman:\", median_converted_comp_woman)\n"
   ]
  },
  {
   "cell_type": "markdown",
   "metadata": {},
   "source": [
    "Give the five number summary for the column `Age`?\n"
   ]
  },
  {
   "cell_type": "markdown",
   "metadata": {},
   "source": [
    "**Double click here for hint**.\n",
    "\n",
    "<!--\n",
    "min,q1,median,q3,max of a column are its five number summary.\n",
    "-->\n"
   ]
  },
  {
   "cell_type": "code",
   "execution_count": 28,
   "metadata": {},
   "outputs": [
    {
     "name": "stdout",
     "output_type": "stream",
     "text": [
      "Five-number summary for the 'Age' column:\n",
      "min    19.0\n",
      "25%    26.0\n",
      "50%    29.0\n",
      "75%    34.0\n",
      "max    63.0\n",
      "Name: Age, dtype: float64\n"
     ]
    }
   ],
   "source": [
    "# your code goes here\n",
    "five_num_summary_age = df['Age'].describe(percentiles=[.25, .5, .75])\n",
    "\n",
    "print(\"Five-number summary for the 'Age' column:\")\n",
    "print(five_num_summary_age[['min', '25%', '50%', '75%', 'max']])"
   ]
  },
  {
   "cell_type": "markdown",
   "metadata": {},
   "source": [
    "Plot a histogram of the column `Age`.\n"
   ]
  },
  {
   "cell_type": "code",
   "execution_count": 29,
   "metadata": {},
   "outputs": [
    {
     "data": {
      "image/png": "[encoded data removed]",
      "text/plain": [
       "<Figure size 1000x600 with 1 Axes>"
      ]
     },
     "metadata": {},
     "output_type": "display_data"
    }
   ],
   "source": [
    "# your code goes here\n",
    "plt.figure(figsize=(10, 6))\n",
    "\n",
    "# Plotting the histogram\n",
    "plt.hist(df['Age'], bins=30, color='green', edgecolor='black')\n",
    "\n",
    "plt.title('Histogram of Age')\n",
    "plt.xlabel('Age')\n",
    "plt.ylabel('Frequency')\n",
    "plt.grid(True)\n",
    "plt.show()"
   ]
  },
  {
   "cell_type": "markdown",
   "metadata": {},
   "source": [
    "## Outliers\n"
   ]
  },
  {
   "cell_type": "markdown",
   "metadata": {},
   "source": [
    "### Finding outliers\n"
   ]
  },
  {
   "cell_type": "markdown",
   "metadata": {},
   "source": [
    "Find out if outliers exist in the column `ConvertedComp` using a box plot?\n"
   ]
  },
  {
   "cell_type": "code",
   "execution_count": 32,
   "metadata": {},
   "outputs": [
    {
     "data": {
      "image/png": "[encoded data removed]",
      "text/plain": [
       "<Figure size 800x600 with 1 Axes>"
      ]
     },
     "metadata": {},
     "output_type": "display_data"
    }
   ],
   "source": [
    "# your code goes here\n",
    "plt.figure(figsize=(8, 6))\n",
    "\n",
    "# Creating a box plot for 'ConvertedComp' column\n",
    "plt.boxplot(df['ConvertedComp'], vert=False)\n",
    "\n",
    "plt.title('Box plot of ConvertedComp')\n",
    "plt.xlabel('Salary (USD)')\n",
    "plt.grid(True)\n",
    "plt.show()"
   ]
  },
  {
   "cell_type": "markdown",
   "metadata": {},
   "source": [
    "Find out the Inter Quartile Range for the column `ConvertedComp`.\n"
   ]
  },
  {
   "cell_type": "code",
   "execution_count": 35,
   "metadata": {},
   "outputs": [
    {
     "name": "stdout",
     "output_type": "stream",
     "text": [
      "Inter Quartile Range (IQR) for ConvertedComp: 70842.5\n"
     ]
    }
   ],
   "source": [
    "# your code goes here\n",
    "converted_comp = df['ConvertedComp']\n",
    "Q1 = converted_comp.quantile(0.25)\n",
    "Q3 = converted_comp.quantile(0.75)\n",
    "IQR = Q3 - Q1\n",
    "\n",
    "print(\"Inter Quartile Range (IQR) for ConvertedComp:\", IQR)"
   ]
  },
  {
   "cell_type": "markdown",
   "metadata": {},
   "source": [
    "Find out the upper and lower bounds.\n"
   ]
  },
  {
   "cell_type": "code",
   "execution_count": 36,
   "metadata": {},
   "outputs": [
    {
     "name": "stdout",
     "output_type": "stream",
     "text": [
      "Upper bound for potential outliers: 211511.25\n",
      "Lower bound for potential outliers: -71858.75\n"
     ]
    }
   ],
   "source": [
    "# your code goes here\n",
    "upper_bound = Q3 + 1.5 * IQR\n",
    "lower_bound = Q1 - 1.5 * IQR\n",
    "\n",
    "print(\"Upper bound for potential outliers:\", upper_bound)\n",
    "print(\"Lower bound for potential outliers:\", lower_bound)"
   ]
  },
  {
   "cell_type": "markdown",
   "metadata": {},
   "source": [
    "Identify how many outliers are there in the `ConvertedComp` column.\n"
   ]
  },
  {
   "cell_type": "code",
   "execution_count": 37,
   "metadata": {},
   "outputs": [
    {
     "name": "stdout",
     "output_type": "stream",
     "text": [
      "Number of outliers in the ConvertedComp column: 71\n"
     ]
    }
   ],
   "source": [
    "# your code goes here\n",
    "outliers = (converted_comp < lower_bound) | (converted_comp > upper_bound)\n",
    "num_outliers = outliers.sum()\n",
    "\n",
    "print(\"Number of outliers in the ConvertedComp column:\", num_outliers)"
   ]
  },
  {
   "cell_type": "markdown",
   "metadata": {},
   "source": [
    "Create a new dataframe by removing the outliers from the `ConvertedComp` column.\n"
   ]
  },
  {
   "cell_type": "code",
   "execution_count": 38,
   "metadata": {},
   "outputs": [
    {
     "name": "stdout",
     "output_type": "stream",
     "text": [
      "Number of outliers removed: 71\n",
      "    Respondent                                         MainBranch Hobbyist  \\\n",
      "6           20  I am not primarily a developer, but I write co...       No   \n",
      "15          39                     I am a developer by profession      Yes   \n",
      "17          44                     I am a developer by profession      Yes   \n",
      "36          83                     I am a developer by profession      Yes   \n",
      "47         104                     I am a developer by profession      Yes   \n",
      "\n",
      "                                          OpenSourcer  \\\n",
      "6                                               Never   \n",
      "15                            Less than once per year   \n",
      "17                         Once a month or more often   \n",
      "36  Less than once a month but more than once per ...   \n",
      "47                                              Never   \n",
      "\n",
      "                                           OpenSource          Employment  \\\n",
      "6   OSS is, on average, of HIGHER quality than pro...  Employed full-time   \n",
      "15  The quality of OSS and closed source software ...  Employed full-time   \n",
      "17  The quality of OSS and closed source software ...  Employed full-time   \n",
      "36  OSS is, on average, of HIGHER quality than pro...  Employed full-time   \n",
      "47  OSS is, on average, of LOWER quality than prop...  Employed full-time   \n",
      "\n",
      "          Country         Student  \\\n",
      "6       Lithuania              No   \n",
      "15  United States              No   \n",
      "17        Germany              No   \n",
      "36          India              No   \n",
      "47          India  Yes, full-time   \n",
      "\n",
      "                                        EdLevel  \\\n",
      "6   Master’s degree (MA, MS, M.Eng., MBA, etc.)   \n",
      "15     Bachelor’s degree (BA, BS, B.Eng., etc.)   \n",
      "17     Bachelor’s degree (BA, BS, B.Eng., etc.)   \n",
      "36     Bachelor’s degree (BA, BS, B.Eng., etc.)   \n",
      "47     Bachelor’s degree (BA, BS, B.Eng., etc.)   \n",
      "\n",
      "                                       UndergradMajor  ...  \\\n",
      "6   Information systems, information technology, o...  ...   \n",
      "15  Computer science, computer engineering, or sof...  ...   \n",
      "17  Information systems, information technology, o...  ...   \n",
      "36                      Web development or web design  ...   \n",
      "47  Computer science, computer engineering, or sof...  ...   \n",
      "\n",
      "                                        WelcomeChange  \\\n",
      "6   Not applicable - I did not use Stack Overflow ...   \n",
      "15           Somewhat less welcome now than last year   \n",
      "17            Just as welcome now as I felt last year   \n",
      "36            Just as welcome now as I felt last year   \n",
      "47            Just as welcome now as I felt last year   \n",
      "\n",
      "                                         SONewContent   Age Gender Trans  \\\n",
      "6           Tech articles written by other developers  38.0    Man    No   \n",
      "15          Tech articles written by other developers  42.0    Man    No   \n",
      "17  Tech articles written by other developers;Indu...  43.0    Man    No   \n",
      "36  Industry news about technologies you're intere...  22.0    Man    No   \n",
      "47  Tech articles written by other developers;Indu...  29.0    Man    No   \n",
      "\n",
      "                  Sexuality                     Ethnicity Dependents  \\\n",
      "6   Straight / Heterosexual  White or of European descent        Yes   \n",
      "15                 Bisexual  White or of European descent         No   \n",
      "17  Straight / Heterosexual  White or of European descent        Yes   \n",
      "36  Straight / Heterosexual                   South Asian         No   \n",
      "47  Straight / Heterosexual                   South Asian        Yes   \n",
      "\n",
      "             SurveyLength                  SurveyEase  \n",
      "6   Appropriate in length                        Easy  \n",
      "15  Appropriate in length                        Easy  \n",
      "17  Appropriate in length                        Easy  \n",
      "36  Appropriate in length  Neither easy nor difficult  \n",
      "47  Appropriate in length                        Easy  \n",
      "\n",
      "[5 rows x 85 columns]\n"
     ]
    }
   ],
   "source": [
    "# your code goes here\n",
    "filtered_data = df[(df['ConvertedComp'] >= lower_bound) & (df['ConvertedComp'] <= upper_bound)]\n",
    "\n",
    "# Display information about removed outliers\n",
    "removed_outliers = df.shape[0] - filtered_data.shape[0]\n",
    "print(\"Number of outliers removed:\", removed_outliers)\n",
    "\n",
    "# Output the new DataFrame without outliers\n",
    "print(filtered_data.head())"
   ]
  },
  {
   "cell_type": "code",
   "execution_count": 44,
   "metadata": {},
   "outputs": [
    {
     "name": "stdout",
     "output_type": "stream",
     "text": [
      "Median of the 'ConvertedComp' column: 65537.5\n"
     ]
    }
   ],
   "source": [
    "df['ConvertedComp'].median()\n",
    "\n",
    "print(\"Median of the 'ConvertedComp' column:\", df['ConvertedComp'].median())"
   ]
  },
  {
   "cell_type": "markdown",
   "metadata": {},
   "source": [
    "## Correlation\n"
   ]
  },
  {
   "cell_type": "markdown",
   "metadata": {},
   "source": [
    "### Finding correlation\n"
   ]
  },
  {
   "cell_type": "markdown",
   "metadata": {},
   "source": [
    "Find the correlation between `Age` and all other numerical columns.\n"
   ]
  },
  {
   "cell_type": "code",
   "execution_count": 43,
   "metadata": {},
   "outputs": [
    {
     "name": "stdout",
     "output_type": "stream",
     "text": [
      "Correlation between 'Age' and other numerical columns:\n",
      "                    Age       Age\n",
      "Age            1.000000  1.000000\n",
      "Respondent     0.027928  0.027928\n",
      "CompTotal      0.012503  0.012503\n",
      "ConvertedComp  0.109655  0.109655\n",
      "WorkWeekHrs    0.040690  0.040690\n",
      "CodeRevHrs    -0.007431 -0.007431\n",
      "Age            1.000000  1.000000\n"
     ]
    }
   ],
   "source": [
    "# your code goes here\n",
    "numerical_columns = df.select_dtypes(include=['int64', 'float64']).columns\n",
    "\n",
    "# Calculate the correlation between 'Age' and other numerical columns\n",
    "correlation = df[['Age'] + list(numerical_columns)].corr()['Age']\n",
    "\n",
    "print(\"Correlation between 'Age' and other numerical columns:\")\n",
    "print(correlation)"
   ]
  },
  {
   "cell_type": "markdown",
   "metadata": {},
   "source": [
    "## Authors\n"
   ]
  },
  {
   "cell_type": "markdown",
   "metadata": {},
   "source": [
    "Ramesh Sannareddy\n"
   ]
  },
  {
   "cell_type": "markdown",
   "metadata": {},
   "source": [
    "### Other Contributors\n"
   ]
  },
  {
   "cell_type": "markdown",
   "metadata": {},
   "source": [
    "Rav Ahuja\n"
   ]
  },
  {
   "cell_type": "markdown",
   "metadata": {},
   "source": [
    "## Change Log\n"
   ]
  },
  {
   "cell_type": "markdown",
   "metadata": {},
   "source": [
    "| Date (YYYY-MM-DD) | Version | Changed By        | Change Description                 |\n",
    "| ----------------- | ------- | ----------------- | ---------------------------------- |\n",
    "| 2020-10-17        | 0.1     | Ramesh Sannareddy | Created initial version of the lab |\n"
   ]
  },
  {
   "cell_type": "markdown",
   "metadata": {},
   "source": [
    " Copyright © 2020 IBM Corporation. This notebook and its source code are released under the terms of the [MIT License](https://cognitiveclass.ai/mit-license?utm_medium=Exinfluencer&utm_source=Exinfluencer&utm_content=000026UJ&utm_term=10006555&utm_id=NA-SkillsNetwork-Channel-SkillsNetworkCoursesIBMDA0321ENSkillsNetwork928-2023-01-01&cm_mmc=Email_Newsletter-_-Developer_Ed%2BTech-_-WW_WW-_-SkillsNetwork-Courses-IBM-DA0321EN-SkillsNetwork-21426264&cm_mmca1=000026UJ&cm_mmca2=10006555&cm_mmca3=M12345678&cvosrc=email.Newsletter.M12345678&cvo_campaign=000026UJ).\n"
   ]
  }
 ],
 "metadata": {
  "kernelspec": {
   "display_name": "Python 3 (ipykernel)",
   "language": "python",
   "name": "python3"
  },
  "language_info": {
   "codemirror_mode": {
    "name": "ipython",
    "version": 3
   },
   "file_extension": ".py",
   "mimetype": "text/x-python",
   "name": "python",
   "nbconvert_exporter": "python",
   "pygments_lexer": "ipython3",
   "version": "3.11.5"
  }
 },
 "nbformat": 4,
 "nbformat_minor": 4
}
